{
 "cells": [
  {
   "cell_type": "code",
   "execution_count": null,
   "metadata": {},
   "outputs": [],
   "source": [
    "import traci\n",
    "import traci.constants as tc\n",
    "\n",
    "# Start SUMO with the TraCI interface\n",
    "sumoCmd = [\"sumo-gui\", \"-c\", \"simple_config.sumocfg\"]\n",
    "traci.start(sumoCmd)\n",
    "\n",
    "# Simulation loop\n",
    "step = 0\n",
    "while step < 80:  # Run for 1000 simulation steps\n",
    "    traci.simulationStep()\n",
    "    # Get the list of all active vehicles\n",
    "    vehicle_list = traci.vehicle.getIDList()\n",
    "    \n",
    "    # Check if 'vehicle_0' is in the simulation\n",
    "    if \"vehicle_0\" in vehicle_list:\n",
    "        speed = traci.vehicle.getSpeed(\"vehicle_0\")\n",
    "        print(f\"Vehicle vehicle_0 speed: {speed} m/s at step {step}\")\n",
    "    \n",
    "    step += 1\n",
    "\n",
    "# Close the simulation\n",
    "traci.close()\n"
   ]
  },
  {
   "cell_type": "code",
   "execution_count": 1,
   "metadata": {},
   "outputs": [],
   "source": [
    "import traci\n",
    "import traci.constants as tc\n",
    "\n",
    "# Start SUMO with the TraCI interface\n",
    "sumoCmd = [\"sumo-gui\", \"-c\", \"testing5.sumocfg\"]\n",
    "traci.start(sumoCmd)\n",
    "\n",
    "# Open a file to write speed and position data\n",
    "with open(\"vehicle_data.csv\", \"w\") as file:\n",
    "    # Write the header row\n",
    "    file.write(\"Step,Vehicle_ID,Speed(m/s),Position(x,y)\\n\")\n",
    "\n",
    "    # Simulation loop\n",
    "    step = 0\n",
    "    while step < 1000:  # Run for 1000 simulation steps\n",
    "        traci.simulationStep()\n",
    "        vehicle_list = traci.vehicle.getIDList()\n",
    "        \n",
    "        for vehicle_id in vehicle_list:\n",
    "            speed = traci.vehicle.getSpeed(vehicle_id)\n",
    "            position = traci.vehicle.getPosition(vehicle_id)  # Returns (x, y) coordinates\n",
    "            file.write(f\"{step},{vehicle_id},{speed},{position[0]},{position[1]}\\n\")\n",
    "        \n",
    "        step += 1\n",
    "\n",
    "# Close the simulation\n",
    "traci.close()\n"
   ]
  }
 ],
 "metadata": {
  "kernelspec": {
   "display_name": "Python 3",
   "language": "python",
   "name": "python3"
  },
  "language_info": {
   "codemirror_mode": {
    "name": "ipython",
    "version": 3
   },
   "file_extension": ".py",
   "mimetype": "text/x-python",
   "name": "python",
   "nbconvert_exporter": "python",
   "pygments_lexer": "ipython3",
   "version": "3.9.13"
  }
 },
 "nbformat": 4,
 "nbformat_minor": 2
}
